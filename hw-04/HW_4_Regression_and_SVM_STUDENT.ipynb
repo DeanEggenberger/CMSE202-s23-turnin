{
 "cells": [
  {
   "cell_type": "markdown",
   "metadata": {},
   "source": [
    "# Homework Assignment #4 (Individual)\n",
    "## Regression and SVM Predictive Models"
   ]
  },
  {
   "cell_type": "markdown",
   "metadata": {},
   "source": [
    "### <p style=\"text-align: right;\"> &#9989; Dean Eggenberger</p>\n",
    "### <p style=\"text-align: right;\"> &#9989; DeanEggenberger</p>"
   ]
  },
  {
   "cell_type": "markdown",
   "metadata": {},
   "source": [
    "### Goal for this homework assignment\n",
    "By now, you have learned a bit about predictive models. In this assignment, you will practice:\n",
    "\n",
    "* Building predictive models using `statsmodels` and `sklearn`\n",
    "* Evaluating your predictive models\n",
    "\n",
    "**This assignment is due roughly two weeks from now at 11:59 pm on Friday, April 21st.** It should be uploaded into the \"Homework Assignments\" submission folder for Homework #4.  Submission instructions can be found at the end of the notebook.\n"
   ]
  },
  {
   "cell_type": "markdown",
   "metadata": {},
   "source": [
    "---\n",
    "## Part 0: Add to your Git repository to track your progress on your assignment (4 points)\n",
    "\n",
    "For this assignment, you're going to add it to the `cmse202-s23-turnin` repository you created in class so that you can track your progress on the assignment and preserve the final version that you turn in. In order to do this you need to\n",
    "\n",
    "**&#9989; Do the following**:\n",
    "\n",
    "1. Navigate to your `cmse202-s23-turnin` repository and create a new directory called `hw-04`.\n",
    "2. Move this notebook into that **new directory** in your repository, then **add it and commit it to your repository**.\n",
    "1. Finally, to test that everything is working, \"git push\" the file so that it ends up in your GitHub repository.\n",
    "\n",
    "**Important**: Double check you've added your Professor and your TA as collaborators to your \"turnin\" repository (you should have done this in the previous homework assignment).\n",
    "\n",
    "**Also important**: Make sure that the version of this notebook that you are working on is the same one that you just added to your repository! If you are working on a different copy of the notebook, **none of your changes will be tracked**!\n",
    "\n",
    "If everything went as intended, the file should now show up on your GitHub account in the \"`cmse202-s23-turnin`\" repository inside the `hw-04` directory that you just created.  Periodically, **you'll be asked to commit your changes to the repository and push them to the remote GitHub location**. Of course, you can always commit your changes more often than that, if you wish.  It can be good to get into a habit of committing your changes any time you make a significant modification, or when you stop working on the project for a bit.\n",
    "\n",
    "&#9989; **Do this**: Before you move on, put the command that your instructor should run to clone your repository in the markdown cell below."
   ]
  },
  {
   "cell_type": "markdown",
   "metadata": {},
   "source": [
    "git clone https://github.com/DeanEggenberger/CMSE202-s23-turnin.git"
   ]
  },
  {
   "cell_type": "markdown",
   "metadata": {},
   "source": [
    "# Building a Model to Predict if it Will Rain Tomorrow\n",
    "\n",
    "In this dataset we have weather data for a number of Australian cities. We’re going to **build a model that uses data from today to predict if it will rain tomorrow.** To simplify our model, let’s just look at the weather for one city.\n",
    "\n",
    "## Part 1. Working with the Data\n",
    "\n",
    "The dataset that we’ll be using can be found here:\n",
    "- `https://raw.githubusercontent.com/msu-cmse-courses/cmse202-S23-data/main/HW/HW4/aussie_weather_data.csv`\n",
    "\n",
    "#### 1.1 (3 Points)\n",
    "**Download the data set and read it in using Pandas.**"
   ]
  },
  {
   "cell_type": "code",
   "execution_count": 3,
   "metadata": {},
   "outputs": [],
   "source": [
    "import pandas as pd \n",
    "# curl -O https://raw.githubusercontent.com/msu-cmse-courses/cmse202-S23-data/main/HW/HW4/aussie_weather_data.csv\n",
    "df = pd.read_csv(\"aussie_weather_data.csv\")"
   ]
  },
  {
   "cell_type": "markdown",
   "metadata": {},
   "source": [
    "#### 1.2 (3 Points)\n",
    "This dataset has weather information for multiple cities in Australia. It’s quite a large dataset. In fact, it’s a little *too* large for our purposes; it will take a considerable amount of time to train a model on so much data. So we’ll just work with the data for a specific city.\n",
    "\n",
    "The first thing we’ll do is see which cities we have data for. \n",
    "**Print out a list of the specific cities in this dataset.** (Note that this is not the same as printing the entire `Location` column.)"
   ]
  },
  {
   "cell_type": "code",
   "execution_count": 6,
   "metadata": {},
   "outputs": [
    {
     "name": "stdout",
     "output_type": "stream",
     "text": [
      "['NorfolkIsland' 'SydneyAirport' 'WaggaWagga' 'MelbourneAirport' 'Mildura'\n",
      " 'Watsonia' 'Brisbane' 'Cairns' 'Townsville' 'MountGambier' 'Nuriootpa'\n",
      " 'PerthAirport' 'Perth' 'AliceSprings' 'Darwin']\n"
     ]
    }
   ],
   "source": [
    "cities = df['Location'].unique()\n",
    "print(cities)"
   ]
  },
  {
   "cell_type": "markdown",
   "metadata": {},
   "source": [
    "#### 1.3 (3 Points)\n",
    "Select one of the cities (and **please** don't just pick the first one!). Cut down your dataframe so that it only contains data from your chosen city. You should also **look through the columns in this dataset and ensure that all of the data is ready for our analysis/model creation.**"
   ]
  },
  {
   "cell_type": "code",
   "execution_count": 14,
   "metadata": {},
   "outputs": [],
   "source": [
    "city_df = df[df['Location'] == cities[3]]\n"
   ]
  },
  {
   "cell_type": "markdown",
   "metadata": {},
   "source": [
    "#### 1.4 (3 Points)\n",
    "Finally, before we start creating our models, let's first split our data into training and testing datasets. **Keep in mind what we want our model to predict and how this dataset gives you the information you need for your model.**"
   ]
  },
  {
   "cell_type": "code",
   "execution_count": 57,
   "metadata": {},
   "outputs": [],
   "source": [
    "from sklearn.model_selection import train_test_split\n",
    "city_df = pd.get_dummies(city_df, drop_first=True)\n",
    "\n",
    "x = city_df.drop(columns=['RainTomorrow'])\n",
    "y = city_df['RainTomorrow']\n",
    "\n",
    "vector_train, vector_test, label_train, label_test = train_test_split(x, y, test_size=0.2, random_state=7)\n"
   ]
  },
  {
   "cell_type": "markdown",
   "metadata": {},
   "source": [
    "## 2.0 Building a Regression Model\n",
    "\n",
    "#### 2.1 (3 Points)\n",
    "We’ll start by creating a regression model. **Does it make sense for us to use linear regression or logistic regression? Explain your choice.**"
   ]
  },
  {
   "cell_type": "markdown",
   "metadata": {},
   "source": [
    "Since our labels will be yes or no, which are discrete outcomes, a logistic regression model is more applicable to this problem. Linear regression models work better in cases where the label is continuous."
   ]
  },
  {
   "cell_type": "markdown",
   "metadata": {},
   "source": [
    "#### 2.2 (12 Points)\n",
    "Create a regression model. Use the model summary to determine which parameters are most statistically significant in your model. If you get an error during at this stage it may be helpful to go back to part 1.3 and ensure that all of your data is appropriate for creating a model. "
   ]
  },
  {
   "cell_type": "code",
   "execution_count": 58,
   "metadata": {},
   "outputs": [
    {
     "name": "stdout",
     "output_type": "stream",
     "text": [
      "               Coefficients\n",
      "Cloud3pm           0.143461\n",
      "Pressure9am        0.116281\n",
      "MaxTemp            0.061589\n",
      "Humidity3pm        0.056971\n",
      "Month              0.046580\n",
      "Year               0.043290\n",
      "WindGustSpeed      0.034096\n",
      "RainToday          0.028061\n",
      "Rainfall           0.017095\n",
      "Evaporation        0.010477\n",
      "Humidity9am        0.005456\n",
      "WindGustDir        0.002093\n",
      "WindDir3pm        -0.000517\n",
      "DayOfMonth        -0.001117\n",
      "WindDir9am        -0.003555\n",
      "MinTemp           -0.004926\n",
      "WindSpeed9am      -0.007440\n",
      "Temp9am           -0.010530\n",
      "Temp3pm           -0.010749\n",
      "WindSpeed3pm      -0.017274\n",
      "Cloud9am          -0.051751\n",
      "Sunshine          -0.109828\n",
      "Pressure3pm       -0.209037\n"
     ]
    },
    {
     "name": "stderr",
     "output_type": "stream",
     "text": [
      "/usr/local/lib/python3.9/site-packages/sklearn/linear_model/_logistic.py:458: ConvergenceWarning: lbfgs failed to converge (status=1):\n",
      "STOP: TOTAL NO. of ITERATIONS REACHED LIMIT.\n",
      "\n",
      "Increase the number of iterations (max_iter) or scale the data as shown in:\n",
      "    https://scikit-learn.org/stable/modules/preprocessing.html\n",
      "Please also refer to the documentation for alternative solver options:\n",
      "    https://scikit-learn.org/stable/modules/linear_model.html#logistic-regression\n",
      "  n_iter_i = _check_optimize_result(\n"
     ]
    }
   ],
   "source": [
    "from sklearn.linear_model import LogisticRegression\n",
    "\n",
    "#Create the logistic regression model\n",
    "regression = LogisticRegression(max_iter=1000)\n",
    "regression.fit(vector_train, label_train)\n",
    "\n",
    "#Find the coefficients that are most useful\n",
    "coefs = pd.DataFrame(log_reg.coef_.T, index=vector_train.columns, columns=[\"Coefficients\"])\n",
    "coefs = coefs.sort_values(by=\"Coefficients\", ascending=False)\n",
    "print(coefs)\n"
   ]
  },
  {
   "cell_type": "markdown",
   "metadata": {},
   "source": [
    "*Record which features are most statistically significant.*\n",
    "\n",
    "The top 5 most important features are Cloud3pm, Pressure9am, MaxTemp, Humidity3pm, and Month. This is because they had the highest coefficients."
   ]
  },
  {
   "cell_type": "markdown",
   "metadata": {},
   "source": [
    "#### 2.3 (8 Points)\n",
    "**Fit your test data and create/print a confusion matrix. We’ll use this to evaluate how well your predicitve model performs.**"
   ]
  },
  {
   "cell_type": "code",
   "execution_count": 59,
   "metadata": {},
   "outputs": [
    {
     "name": "stdout",
     "output_type": "stream",
     "text": [
      "              precision    recall  f1-score   support\n",
      "\n",
      "     No Rain       0.82      0.94      0.88       433\n",
      "        Rain       0.72      0.41      0.52       153\n",
      "\n",
      "    accuracy                           0.80       586\n",
      "   macro avg       0.77      0.67      0.70       586\n",
      "weighted avg       0.79      0.80      0.78       586\n",
      "\n",
      "Overall Accuracy: 0.80\n"
     ]
    },
    {
     "data": {
      "image/png": "[encoded data removed]",
      "text/plain": [
       "<Figure size 640x480 with 2 Axes>"
      ]
     },
     "metadata": {},
     "output_type": "display_data"
    }
   ],
   "source": [
    "from sklearn.metrics import confusion_matrix, ConfusionMatrixDisplay\n",
    "from sklearn.metrics import classification_report\n",
    "\n",
    "# Predict the test data \n",
    "label_pred = log_reg.predict(vector_test)\n",
    "\n",
    "# Create confusion matrix\n",
    "cm = confusion_matrix(label_test, label_pred)\n",
    "\n",
    "# create report\n",
    "report = classification_report(label_test, label_pred, target_names=[\"No Rain\", \"Rain\"])\n",
    "\n",
    "# print everything\n",
    "print(report)\n",
    "cmd = ConfusionMatrixDisplay(cm, display_labels=[\"No Rain\", \"Rain\"])\n",
    "cmd.plot()\n",
    "\n",
    "\n",
    "# print accuracy score\n",
    "print(f\"Overall Accuracy: {accuracy_score(label_test, label_pred):.2f}\")"
   ]
  },
  {
   "cell_type": "markdown",
   "metadata": {},
   "source": [
    "#### 2.4 (3 Points)\n",
    "Look at/calculate the Precision and Recall of your model. **Which one is greater? Describe in plain language what that means about the performance of your model (I.e., the circumstances in which it does/doesn’t do well).**"
   ]
  },
  {
   "cell_type": "markdown",
   "metadata": {},
   "source": [
    "The macro-average precision is .78 which is higher than the macro-average recall which is .71. This means that when the model predicts a rainy day, it will perform well relative to how well it predicts rainy days overall, since it only catches 47% of them. \n",
    "\n",
    "When it predicts a rainy day, it will be right 70% of the time, but it will only classify 47% of the rainy days as rainy. This is likely because rainy days are infrequent in this dataset."
   ]
  },
  {
   "cell_type": "markdown",
   "metadata": {},
   "source": [
    "## 3.0 Interlude: A Base Rate Frequency Model (12 Points)\n",
    "\n",
    "If we didn't create a fancy model for predicting future rainfall, would that mean that we had *no way* of predicting if it would rain? Of course not. There's always *some* kind of model we can use (they just won't be very sophisticated). \n",
    "\n",
    "In the case of our problem--predicting whether it will rain tomorrow--what is the simplest model we could use? We'd need to look at the **base rate frequency**. If we know that, over the course of the year, it rains ~30% of the time, that would be our base rate frequency. If we were to guess that it would be sunny every day of the year, we'd be wrong ~30% of the time, *but we'd be right ~70% of the time.* \n",
    "\n",
    "Why is this important? Imagine we create a sophisticated model that accurately predicts rain/no rain ~60% of the time; without any other information, we might think, \"That's not too bad, I guess.\" It certainly feels better than *no* information, right? Now think about the base rate frequency model, which achieves an accuracy of **70%** just by guessing the same thing every time. Suddenly, our sophisticated model seems like crap! It tells us we could be doing ~10% better than our fancy model by guessing. This is why we use the base rate frequency as a simple way to test our models.\n",
    "\n",
    "\n",
    "**Calculate how frequently it rains in your city. If you were to guess that it *wasn't* going to rain every day, how frequently would you be right? (We'll use this as our baseline model.)**\n"
   ]
  },
  {
   "cell_type": "code",
   "execution_count": 32,
   "metadata": {},
   "outputs": [
    {
     "name": "stdout",
     "output_type": "stream",
     "text": [
      "Frequency of rain: 0.22\n",
      "Baseline model accuracy: 0.78\n"
     ]
    }
   ],
   "source": [
    "#Write your code for calculating the frequency of rain here.\n",
    "\n",
    "rain_frequency = city_df['RainTomorrow'].mean()\n",
    "print(f\"Frequency of rain: {rain_frequency:.2f}\")\n",
    "print(f\"Baseline model accuracy: {(1 - rain_frequency):.2f}\")\n"
   ]
  },
  {
   "cell_type": "markdown",
   "metadata": {},
   "source": [
    "By guessing no rain every time, you would be right approximately 78% of the time. This is slightly worse than our model predicting the correct anwer about 84% of the time."
   ]
  },
  {
   "cell_type": "markdown",
   "metadata": {},
   "source": [
    "---\n",
    "\n",
    "### &#128721; STOP (3 Point)\n",
    "**Pause to commit your changes to your Git repository!**\n",
    "\n",
    "Take a moment to save your notebook, commit the changes to your Git repository with a meaningful commit message.\n",
    "\n",
    "---"
   ]
  },
  {
   "cell_type": "markdown",
   "metadata": {},
   "source": [
    "## 4.0 SVM Model\n",
    "\n",
    "We’ve seen how regression faired in predicting rain; now let’s give Support Vector Machines a shot. \n",
    "\n",
    "It’s not clear, *a priori*, which type of kernel (linear or RBF) would fair better. Therefore, we’ll need to test out both kernel types, as well as multiple values for hyperparameters ($C$ and $\\gamma$). \n",
    "\n",
    "#### 4.1 (12 Points)\n",
    "Run a grid search over both types of kernels and multiple values of $C$ and $\\gamma$ (we recommend [0.01,0.1,1.0,10.0] for both). We *STRONGLY* recommend you set the parameter `n_jobs=-1` in `GridSearchCV`, which will distribute the computational load. Make sure to write down your best-fit hyperparameters. "
   ]
  },
  {
   "cell_type": "code",
   "execution_count": 34,
   "metadata": {},
   "outputs": [
    {
     "name": "stdout",
     "output_type": "stream",
     "text": [
      "Best-fit hyperparameters: {'C': 10.0, 'gamma': 0.01, 'kernel': 'linear'}\n"
     ]
    }
   ],
   "source": [
    "from sklearn.svm import SVC\n",
    "from sklearn.model_selection import GridSearchCV\n",
    "\n",
    "grid = {'C': [0.01, 0.1, 1.0, 10.0],'gamma': [0.01, 0.1, 1.0, 10.0],'kernel': ['linear', 'rbf']}\n",
    "\n",
    "svc = SVC()\n",
    "\n",
    "grid_search = GridSearchCV(svc, grid, cv=5, n_jobs=-1)\n",
    "grid_search.fit(vector_train, label_train)\n",
    "\n",
    "print(\"Best-fit hyperparameters:\", grid_search.best_params_)\n"
   ]
  },
  {
   "cell_type": "markdown",
   "metadata": {},
   "source": [
    "Best-fit hyperparameters: {'C': 10.0, 'gamma': 0.01, 'kernel': 'linear'}\n"
   ]
  },
  {
   "cell_type": "markdown",
   "metadata": {},
   "source": [
    "#### 4.2 (8 Points)\n",
    "Using your best-fit parameters, classify your test data and print off the confusion matrix. Note/calculate the Precision and Recall for your SVM model, as well as the overall accuracy.\n",
    "\n",
    "$\\mathrm{Accuracy} = \\frac{\\mathrm{Accurate~Predictions}}{\\mathrm{Total~Samples}}$."
   ]
  },
  {
   "cell_type": "code",
   "execution_count": 60,
   "metadata": {},
   "outputs": [
    {
     "name": "stdout",
     "output_type": "stream",
     "text": [
      "              precision    recall  f1-score   support\n",
      "\n",
      "     No Rain       0.83      0.94      0.88       433\n",
      "        Rain       0.71      0.44      0.54       153\n",
      "\n",
      "    accuracy                           0.81       586\n",
      "   macro avg       0.77      0.69      0.71       586\n",
      "weighted avg       0.80      0.81      0.79       586\n",
      "\n",
      "Overall Accuracy: 0.81\n"
     ]
    },
    {
     "data": {
      "image/png": "[encoded data removed]",
      "text/plain": [
       "<Figure size 640x480 with 2 Axes>"
      ]
     },
     "metadata": {},
     "output_type": "display_data"
    }
   ],
   "source": [
    "from sklearn.metrics import confusion_matrix\n",
    "from sklearn.metrics import ConfusionMatrixDisplay\n",
    "from sklearn.metrics import classification_report\n",
    "\n",
    "\n",
    "#Predict test data\n",
    "label_pred_2 = grid_search.best_estimator_.predict(vector_test)\n",
    "\n",
    "# make and print the confusion matrix\n",
    "cm_2 = confusion_matrix(label_test, label_pred_2)\n",
    "cmd_2 = ConfusionMatrixDisplay(cm_2, display_labels=[\"No Rain\", \"Rain\"])\n",
    "cmd_2.plot()\n",
    "\n",
    "# make and print the classification report\n",
    "report_2 = classification_report(label_test, label_pred_2, target_names=[\"No Rain\", \"Rain\"])\n",
    "print(report_2)\n",
    "\n",
    "# print accuracy score\n",
    "print(f\"Overall Accuracy: {accuracy_score(label_test, label_pred_2):.2f}\")\n"
   ]
  },
  {
   "cell_type": "markdown",
   "metadata": {},
   "source": [
    "## 5. Evaluation of Models\n",
    "\n",
    "Here we’re going to investigate how well our predictive models actually work.\n",
    "\n",
    "\n",
    "#### 5.1 (5 Points)\n",
    "\n",
    "Compare the accuracy of both of your predictive models (regression and SVM) to the baseline model from part 3. Do your predictive models do better than the baseline model? Is their performance relative to the baseline model what *you* would expect? \n"
   ]
  },
  {
   "cell_type": "markdown",
   "metadata": {},
   "source": [
    "I expected the SVM to outperform both models, but surprisingly the regression model was the most accurate at predicting when it would rain/not rain out of all three. \n",
    "\n",
    "Accuracies:\n",
    "\n",
    "    -Base Model: 78%\n",
    "    \n",
    "    -Regression Model: 84%\n",
    "    \n",
    "    -SVM: 83%\n",
    "    \n",
    "I am happy to see that the base model is outperformed by the regression model and SVM, but it is a bit dissapointing by how much. There is a 5% increase in accuracy with the SVM and 6% with the regression model, which reduces the incorrect outcomes by about 20%. That seems to be the best way to look at it, and it still doesn't sound too impressive. \n",
    "\n",
    "I would expect this increase in accuracy, but I would've expected it to be by more."
   ]
  },
  {
   "cell_type": "markdown",
   "metadata": {},
   "source": [
    "#### 5.2 (5 Points)\n",
    "\n",
    "Let’s test the robustness of your model. Before you do anything, you should record the precision, recall, and accuracy of your two predictive models (if you haven’t already). Once you’ve done that, go all the way back to part 1.4 and change the random seed for `train_test_split`. Using this new data split, rerun all of your code from parts 2 and 4. For each new random seed, record the precision, recall, and accuracy for both models (and write them, as well as the random seed, in the cell below!). Do this for 3-5 different random seeds. \n"
   ]
  },
  {
   "cell_type": "markdown",
   "metadata": {},
   "source": [
    "Random State: 42\n",
    "\n",
    "Regression model:\n",
    "\n",
    "              precision    recall  f1-score   support\n",
    "\n",
    "     No Rain       0.86      0.94      0.90       457\n",
    "        Rain       0.70      0.47      0.56       129\n",
    "\n",
    "    accuracy                           0.84       586\n",
    "   macro avg       0.78      0.71      0.73       586\n",
    "weighted avg       0.83      0.84      0.83       586\n",
    "\n",
    "Overall Accuracy: 0.84\n",
    "\n",
    "SVM:\n",
    "\n",
    "              precision    recall  f1-score   support\n",
    "\n",
    "     No Rain       0.86      0.94      0.90       457\n",
    "        Rain       0.67      0.45      0.54       129\n",
    "\n",
    "    accuracy                           0.83       586\n",
    "   macro avg       0.76      0.69      0.72       586\n",
    "weighted avg       0.82      0.83      0.82       586\n",
    "\n",
    "Overall Accuracy: 0.83\n",
    "\n",
    "Random State: 66\n",
    "\n",
    "Regression:\n",
    "\n",
    "              precision    recall  f1-score   support\n",
    "\n",
    "     No Rain       0.87      0.96      0.91       457\n",
    "        Rain       0.76      0.50      0.60       129\n",
    "\n",
    "    accuracy                           0.85       586\n",
    "   macro avg       0.82      0.73      0.76       586\n",
    "weighted avg       0.85      0.85      0.84       586\n",
    "\n",
    "Overall Accuracy: 0.85\n",
    "\n",
    "SVM: \n",
    "              precision    recall  f1-score   support\n",
    "\n",
    "     No Rain       0.88      0.96      0.92       457\n",
    "        Rain       0.77      0.53      0.63       129\n",
    "\n",
    "    accuracy                           0.86       586\n",
    "  \n",
    "   macro avg       0.83      0.74      0.77       586\n",
    "   \n",
    "weighted avg       0.85      0.86      0.85       586\n",
    "\n",
    "Overall Accuracy: 0.86\n",
    "\n",
    "\n",
    "Random State: 70\n",
    "\n",
    "Regression:\n",
    "\n",
    "              precision    recall  f1-score   support\n",
    "\n",
    "     No Rain       0.88      0.95      0.91       459\n",
    "        Rain       0.74      0.54      0.62       127\n",
    "\n",
    "    accuracy                           0.86       586\n",
    "   macro avg       0.81      0.74      0.77       586\n",
    "weighted avg       0.85      0.86      0.85       586\n",
    "\n",
    "Overall Accuracy: 0.86\n",
    "\n",
    "SVM: \n",
    "\n",
    "              precision    recall  f1-score   support\n",
    "\n",
    "     No Rain       0.88      0.95      0.91       459\n",
    "        Rain       0.73      0.54      0.62       127\n",
    "\n",
    "    accuracy                           0.86       586\n",
    "   macro avg       0.81      0.74      0.76       586\n",
    "weighted avg       0.85      0.86      0.85       586\n",
    "\n",
    "Overall Accuracy: 0.86\n",
    "\n",
    "Random State: 1\n",
    "\n",
    "Regression:\n",
    "\n",
    "              precision    recall  f1-score   support\n",
    "\n",
    "     No Rain       0.88      0.94      0.91       461\n",
    "        Rain       0.71      0.51      0.60       125\n",
    "\n",
    "    accuracy                           0.85       586\n",
    "   macro avg       0.79      0.73      0.75       586\n",
    "weighted avg       0.84      0.85      0.84       586\n",
    "\n",
    "Overall Accuracy: 0.85\n",
    "\n",
    "SVM:\n",
    "\n",
    "              precision    recall  f1-score   support\n",
    "\n",
    "     No Rain       0.87      0.94      0.91       461\n",
    "        Rain       0.70      0.49      0.58       125\n",
    "\n",
    "    accuracy                           0.85       586\n",
    "   macro avg       0.79      0.72      0.74       586\n",
    "weighted avg       0.84      0.85      0.84       586\n",
    "\n",
    "Overall Accuracy: 0.85\n",
    "\n",
    "Random State: 7\n",
    "\n",
    "Regression:\n",
    "\n",
    "              precision    recall  f1-score   support\n",
    "\n",
    "     No Rain       0.82      0.94      0.88       433\n",
    "        Rain       0.72      0.41      0.52       153\n",
    "\n",
    "    accuracy                           0.80       586\n",
    "   macro avg       0.77      0.67      0.70       586\n",
    "weighted avg       0.79      0.80      0.78       586\n",
    "\n",
    "Overall Accuracy: 0.80\n",
    "\n",
    "SVM:\n",
    "\n",
    "              precision    recall  f1-score   support\n",
    "\n",
    "     No Rain       0.83      0.94      0.88       433\n",
    "        Rain       0.71      0.44      0.54       153\n",
    "\n",
    "    accuracy                           0.81       586\n",
    "   macro avg       0.77      0.69      0.71       586\n",
    "weighted avg       0.80      0.81      0.79       586\n",
    "\n",
    "Overall Accuracy: 0.81\n",
    "\n",
    "\n"
   ]
  },
  {
   "cell_type": "code",
   "execution_count": 61,
   "metadata": {},
   "outputs": [
    {
     "name": "stdout",
     "output_type": "stream",
     "text": [
      "Regression Precision: 0.83\n",
      "Regression Recall: 0.84\n",
      "Regression Accuracy: 0.84\n",
      "SVM Precision: 0.83\n",
      "SVM Recall: 0.84\n",
      "SVM Accuracy: 0.84\n"
     ]
    }
   ],
   "source": [
    "random_states = [42,66,70,1,7]\n",
    "regression_precision = [.83,.85,.85,.84,.79]\n",
    "regression_recall = [.84,.85,.86,.85,.80]\n",
    "regression_accuracy = [.84,.85,.86,.85,.80]\n",
    "SVM_precision = [.82,.85,.85,.84,.80]\n",
    "SVM_recall = [.83,.86,.86,.85,.81]\n",
    "SVM_accuracy = [.83,.86,.86,.85,.81]\n",
    "\n",
    "def average(lst):\n",
    "    return sum(lst) / len(lst)\n",
    "\n",
    "metrics = {\n",
    "    'Regression Precision': regression_precision,\n",
    "    'Regression Recall': regression_recall,\n",
    "    'Regression Accuracy': regression_accuracy,\n",
    "    'SVM Precision': SVM_precision,\n",
    "    'SVM Recall': SVM_recall,\n",
    "    'SVM Accuracy': SVM_accuracy,\n",
    "}\n",
    "\n",
    "for name, values in metrics.items():\n",
    "    avg = average(values)\n",
    "    print(f\"{name}: {avg:.2f}\")"
   ]
  },
  {
   "cell_type": "markdown",
   "metadata": {},
   "source": [
    "#### 5.3 (5 Points)\n",
    "\n",
    "How much variation did you observe in the precision, recall, and accuracy in your models? After going through this exercise, how (if at all) does this change your response to part 5.1? "
   ]
  },
  {
   "cell_type": "markdown",
   "metadata": {},
   "source": [
    "There was a bit of variance as seen above. The models' precision, recall, and accuracies varied from 79 to 86%. They did so very similarly to one another, and it looks like the SVM did slightly better in most of them, though they have the same averages. I would say that I would now trust both of these models about equally with one another. "
   ]
  },
  {
   "cell_type": "markdown",
   "metadata": {},
   "source": [
    "#### 5.4 (5 Points)\n",
    "\n",
    "Finally, compare the performance of your regression and SVM models. Which, if any, performed better? Esxplain."
   ]
  },
  {
   "cell_type": "markdown",
   "metadata": {},
   "source": [
    "I would say that the SVM and logistic regression models perform about the same as one another. The SVM model would sometimes have a higher precision or recall rate by one percent, but other times the logistic regression model would outperform the SVM a bit. I would trust them about the same between one another."
   ]
  },
  {
   "cell_type": "markdown",
   "metadata": {},
   "source": [
    "---\n",
    "\n",
    "### &#128721; STOP (3 Point)\n",
    "**Pause to commit your changes to your Git repository!**\n",
    "\n",
    "Take a moment to save your notebook, commit the changes to your Git repository with a meaningful commit message.\n",
    "\n",
    "---"
   ]
  },
  {
   "cell_type": "markdown",
   "metadata": {},
   "source": [
    "### Congratulations, you're done!"
   ]
  },
  {
   "cell_type": "markdown",
   "metadata": {},
   "source": [
    "&#169; Copyright 2022,  Department of Computational Mathematics, Science and Engineering at Michigan State University"
   ]
  }
 ],
 "metadata": {
  "kernelspec": {
   "display_name": "Python 3 (ipykernel)",
   "language": "python",
   "name": "python3"
  },
  "language_info": {
   "codemirror_mode": {
    "name": "ipython",
    "version": 3
   },
   "file_extension": ".py",
   "mimetype": "text/x-python",
   "name": "python",
   "nbconvert_exporter": "python",
   "pygments_lexer": "ipython3",
   "version": "3.9.16"
  }
 },
 "nbformat": 4,
 "nbformat_minor": 2
}
